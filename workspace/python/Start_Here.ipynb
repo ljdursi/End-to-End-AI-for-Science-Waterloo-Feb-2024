{
 "cells": [
  {
   "cell_type": "markdown",
   "metadata": {},
   "source": [
    "# Welcome to End to End AI for Science Bootcamp using Modulus and Earth-2!\n",
    "\n",
    "---\n",
    "\n",
    "This Bootcamp will provide researchers hands-on approaches on how to use NVIDIA Modulus, a framework that combines physics and partial differential equations (PDEs) with artificial intelligence (AI) to build robust models. Participants will also learn about the differences between Physics-driven and Data-driven approaches to AI. In addition, the Bootcamp will provide hands-on experience with visualizing the results of physics simulations using ParaView. This Lab will also introduce you to Earth2Studio where you get to try out different workflows for various Weather forecasting models!\n",
    "\n",
    "\n",
    "## Modulus: \n",
    "\n",
    "\n",
    "- [Getting started with Modulus](jupyter_notebook/introduction/Getting_Started_Modulus.ipynb)\n",
    "    - [Introduction to Modulus](jupyter_notebook/introduction/Getting_Started_Modulus.ipynb#Introduction-to-Modulus)\n",
    "    - [Physics-Informed approach vs Data-driven approach to neural networks](jupyter_notebook/introduction/Getting_Started_Modulus.ipynb#Physics-Informed-approach-vs-Data-driven-approach-to-neural-networks)\n",
    "\n",
    "\n",
    "\n",
    "### Physics-Infomed approach\n",
    "\n",
    "1. [Introduction to the theory of Physics Informed Neural Networks (PINNs)](jupyter_notebook/introduction/Introductory_Notebook.ipynb)\n",
    "    - [Neural Network Solver Methodology](jupyter_notebook/introduction/Introductory_Notebook.ipynb#Neural-Network-Solver-Methodology)\n",
    "    - [Parameterized Problems](jupyter_notebook/introduction/Introductory_Notebook.ipynb#Parameterized-Problems)\n",
    "    - [Inverse Problems](jupyter_notebook/introduction/Introductory_Notebook.ipynb#Inverse-Problems)\n",
    "\n",
    "\n",
    "2. [Simulating projectile Motion](jupyter_notebook/projectile/Getting_Started_Projectile.ipynb)\n",
    "    - [Simulating the Projectile Motion ODE](jupyter_notebook/projectile/Getting_Started_Projectile.ipynb#Simulating-the-Projectile-Motion-ODE)\n",
    "\n",
    "\n",
    "3. [Steady State Diffusion in a Composite Bar using PINNs](jupyter_notebook/diffusion_1d/Diffusion_Problem_Notebook.ipynb)\n",
    "    - [Steady State 1D Diffusion in a Composite Bar](jupyter_notebook/diffusion_1d/Diffusion_Problem_Notebook.ipynb#Steady-State-1D-Diffusion-in-a-Composite-Bar-using-PINNs)\n",
    "    - [Parameterized 1D Diffusion of Composite Bar](jupyter_notebook/diffusion_1d/Diffusion_Problem_Notebook.ipynb#Parameterized-1D-Diffusion-of-Composite-Bar)\n",
    "\n",
    "\n",
    "4. [Forecasting Weather using Physics Informed approach](jupyter_notebook/navier_stokes/Weather-forecasting-navier-stokes.ipynb)\n",
    "    - [Forecasting weather at sea level using Navier Stokes equation](jupyter_notebook/navier_stokes/Weather-forecasting-navier-stokes.ipynb#Forecasting-Weather-using-Navier-Stokes-PDE)\n",
    "    \n",
    "\n",
    "\n",
    "- [Optional - Spring mass problem - Solving transient problems and inverse problems](jupyter_notebook/spring_mass/Spring_Mass_Problem_Notebook.ipynb)\n",
    "    - [Solving Ordinary Differential Equations using PINNs](jupyter_notebook/spring_mass/Spring_Mass_Problem_Notebook.ipynb#Solving-the-Spring-Mass-Problem-using-PINNs)\n",
    "    - [Solving the Inverse Problem](jupyter_notebook/spring_mass/Spring_Mass_Problem_Notebook.ipynb#Solving-the-Inverse-Problem)\n",
    "\n",
    "\n",
    "\n",
    "We have seen some hands-on examples on Physics informed approach, let us now use Modulus to solve problems using the Data driven approach.\n",
    "\n",
    "### Data-driven approach\n",
    "\n",
    "\n",
    "1. [Introduction to Data driven approach - Solving the Darcy-Flow problem using FNO](jupyter_notebook/Operators/Darcy_Flow_using_Fourier_Neural_Operators.ipynb)\n",
    "    - [Introduction to Data-driven approach](jupyter_notebook/Operators/Darcy_Flow_using_Fourier_Neural_Operators.ipynb#Introduction-to-Data-driven-approach)\n",
    "    - [Theory of the Fourier Neural Operator](jupyter_notebook/Operators/Darcy_Flow_using_Fourier_Neural_Operators.ipynb#Theory-of-the-Fourier-Neural-Operator)\n",
    "    - [Solving the Darcy-Flow problem](jupyter_notebook/Operators/Darcy_Flow_using_Fourier_Neural_Operators.ipynb#Solving-the-Darcy-Flow-problem)\n",
    "\n",
    "\n",
    "2. [Solving the Darcy-Flow problem using AFNO](jupyter_notebook/Operators/Darcy_Flow_using_Adaptive_Fourier_Neural_Operators.ipynb)\n",
    "    - [Theory of Adaptive Fourier Neural Operator](jupyter_notebook/Operators/Darcy_Flow_using_Adaptive_Fourier_Neural_Operators.ipynb#Theory-of-the-Adaptive-Fourier-Neural-Operator)\n",
    "    - [Solving the Darcy-Flow problem](jupyter_notebook/Operators/Darcy_Flow_using_Adaptive_Fourier_Neural_Operators.ipynb#Solving-the-Darcy-Flow-problem)"
   ]
  },
  {
   "cell_type": "markdown",
   "metadata": {},
   "source": [
    "--- \n",
    "\n",
    "Don't forget to check out additional [Open Hackathons Resources](https://www.openhackathons.org/s/technical-resources) and join our [OpenACC and Hackathons Slack Channel](https://www.openacc.org/community#slack) to share your experience and get more help from the community.\n",
    "\n",
    "---\n",
    "\n",
    "# Licensing\n",
    "\n",
    "Copyright © 2023 OpenACC-Standard.org.  This material is released by OpenACC-Standard.org, in collaboration with NVIDIA Corporation, under the Creative Commons Attribution 4.0 International (CC BY 4.0). These materials may include references to hardware and software developed by other entities; all applicable licensing and copyrights apply.\n"
   ]
  }
 ],
 "metadata": {
  "kernelspec": {
   "display_name": "Python 3 (ipykernel)",
   "language": "python",
   "name": "python3"
  },
  "language_info": {
   "codemirror_mode": {
    "name": "ipython",
    "version": 3
   },
   "file_extension": ".py",
   "mimetype": "text/x-python",
   "name": "python",
   "nbconvert_exporter": "python",
   "pygments_lexer": "ipython3",
   "version": "3.10.12"
  }
 },
 "nbformat": 4,
 "nbformat_minor": 4
}
