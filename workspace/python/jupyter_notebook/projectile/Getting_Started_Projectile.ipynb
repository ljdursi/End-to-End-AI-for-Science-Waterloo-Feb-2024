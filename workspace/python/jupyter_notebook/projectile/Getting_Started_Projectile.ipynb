{
 "cells": [
  {
   "cell_type": "markdown",
   "metadata": {},
   "source": [
    "# Getting started with Modulus - Simulating projectile motion"
   ]
  },
  {
   "cell_type": "markdown",
   "metadata": {},
   "source": [
    "This notebook will give you a headstart in solving your Partial Differential Equations (PDEs) using neural networks. \n",
    "\n",
    "Let's quickly recap the theory of PINNs before proceeding. We will embed the physics of the problem in the neural networks. In such a setting, we can use them to approximate the solution to a given differential equation and boundary condition without any training data from other solvers. More specifically, the neural network will be trained to minimize a loss function formed using the differential equation and the boundary conditions. If the network can minimize this loss, then it will, in effect solve the given differential equation. More information about the Physics Informed Neural Networks (PINNs) can be found in the <a href=\"https://www.sciencedirect.com/science/article/pii/S0021999118307125?casa_token=1CnSbVeDwJ0AAAAA:-8a6ZMjO7RgYjFBAxIoVU2sWAdsqFzLRTNHA1BkRryNPXx5Vjc8hCDCkS99gcZR0B1rpa33a30yG\" rel=\"nofollow\">paper</a> published by Raissi et al. \n",
    "You can refer to the <a href=\"https://docs.nvidia.com/deeplearning/modulus/index.html\" rel=\"nofollow\">Modulus User Documentation</a> for more examples on solving different types of PDEs using the Modulus library, Modulus APIs, Release notes, etc. \n"
   ]
  },
  {
   "cell_type": "markdown",
   "metadata": {},
   "source": [
    "Before we get started, we're going to connect to your Google Drive and install some preprequisites there, so we don't have to do it for every notebook..."
   ]
  },
  {
   "cell_type": "code",
   "execution_count": null,
   "metadata": {},
   "outputs": [],
   "source": [
    "from google.colab import drive\n",
    "drive.mount('/content/drive')"
   ]
  },
  {
   "cell_type": "code",
   "execution_count": null,
   "metadata": {
    "vscode": {
     "languageId": "shellscript"
    }
   },
   "outputs": [],
   "source": [
    "%%bash\n",
    "pip3 install virtualenv\n",
    "cd /content/drive/MyDrive/Colab\\ Notebooks\n",
    "virtualenv modulus\n",
    "source modulus/bin/activate\n",
    "pip install nvidia-modulus==0.6.0 nvidia-modulus-sym==1.5.0  gdown ipympl cdsapi"
   ]
  },
  {
   "cell_type": "markdown",
   "metadata": {},
   "source": [
    "#### Contents of the Notebook\n",
    "\n",
    "- [Simulating the Projectile Motion ODE](#Simulating-the-Projectile-Motion-ODE)\n",
    "    - [Case Setup](#Case-Setup)\n",
    "    - [Step 1: Creating the geometry](#Step-1:-Creating-the-geometry)\n",
    "    - [Step 2: Defining the differential equations for the problem and creating the nodes](#Step-2:-Defining-the-differential-equations-for-the-problem-and-creating-the-nodes)\n",
    "    - [Step 3: Setting up the Domain,a ssigning the boundary and PDE constraints](#Step-3:-Setting-up-the-Domain,a-ssigning-the-boundary-and-PDE-constraints)\n",
    "    - [Step 4: Adding Validation and Inferencers to the Domain](#Step-4:-Adding-Validation-and-Inferencers-to-the-Domain)\n",
    "    - [Step 5: Using Hydra to configure Modulus](#Step-5:-Using-Hydra-to-configure-Modulus)\n",
    "    - [Step 6: Putting everything together: Solver and training](#Step-6:-Putting-everything-together:-Solver-and-training)\n",
    "    - [Visualizing the solution](#Visualizing-the-solution)\n",
    "        \n",
    "#### Learning Outcomes\n",
    "- How to use Modulus to simulate physics problems using PINNs\n",
    "- How to write your own PDEs and formulate the different losses\n",
    "- How to define a domain and specify constraints\n",
    "- How to monitor the training of the PINNs using Tensorboard\n",
    "    "
   ]
  },
  {
   "cell_type": "markdown",
   "metadata": {},
   "source": [
    "## Simulating the Projectile Motion ODE\n",
    "\n",
    "Our aim in this setup is to obtain the position of a point mass as a function of time $ ( x(t) , y(t) )$ which is given an initial velocity from the origin at the initial moment ( $t=0$ ), this 2-d space has a constant gravitational acceleration ( $g=-9.8m/s^2$ ) and air resistance can be neglected. The sample output path of the problem can be seen below. While we are familiar with the equations of motions, we can differentiate it to obtain the differential equations for this system.\n",
    "<center><img src=\"images/projectile.svg\" alt=\"Drawing\" style=\"width:600px\" /></center>\n",
    "\n",
    "\n",
    "The equations of motion for such a system are defined as follows: \n",
    "$$\n",
    "S_x = V_{0x} t \\\\\n",
    "S_y = V_{0y} t + \\frac{1}{2} g t^2 \n",
    "$$\n",
    "The above equation when differentiated with respect to time gives us the following:  \n",
    "$$\n",
    "\\frac{dS_x}{dt} = V_{0x} \\\\\n",
    "\\frac{dS_y}{dt} = V_{0y} + gt\n",
    "$$\n",
    "While you may setup the problem statement with these equations, in this setup we will be using further differentiate it to get the second-order derivatives with respect to time as following and using it in our setup: \n",
    "$$\n",
    "\\frac{\\mathrm{d}^2 S_x}{\\mathrm{d} t^2} = 0 \\\\\n",
    "\\frac{\\mathrm{d}^2 S_y}{\\mathrm{d} t^2} = g\n",
    "$$\n",
    "The above second order differential equations can now be used to setup our case, in this case while we are aware of the analytical solutions, a lot of the complex systems are defined using Partial differential equations and a finding an analytical solution might not be straight-forward when the complexity of equations increases.\n"
   ]
  },
  {
   "cell_type": "markdown",
   "metadata": {},
   "source": [
    "### Case Setup\n",
    "\n",
    "Now that we have our problem defined, let's look at the code required to solve it using Modulus. Modulus has a variety of helper functions/APIs that will help us to set up the problem with ease. It has APIs to model geometry in a parameterized fashion using the Constructive Solid Geometry (CSG) module, write up the required equations in a user-friendly symbolic format and comes with several advanced neural network architectures to choose from for more complicated problems. \n",
    "Now let's start the problem by importing the required libraries and packages\n",
    "<h4 id=\"note--in-this-notebook-we-will-describe-the-contents-of-the-projectilepy-script\">Note : In this notebook, we will describe the contents of the <a href=\"../../source_code/projectile/projectile.py\" rel=\"nofollow\"><code>projectile.py</code></a> script</h4>\n"
   ]
  },
  {
   "cell_type": "markdown",
   "metadata": {},
   "source": [
    "```python\n",
    "import numpy as np\n",
    "from sympy import Symbol, sin, cos, pi,  Eq\n",
    "import torch\n",
    "import modulus\n",
    "from modulus.sym.hydra import instantiate_arch, ModulusConfig\n",
    "from modulus.sym.solver import Solver\n",
    "from modulus.sym.domain import Domain\n",
    "from modulus.sym.geometry.primitives_1d import Line1D,Point1D\n",
    "from modulus.sym.geometry.primitives_2d import Rectangle\n",
    "from modulus.sym.domain.constraint import (\n",
    "        PointwiseBoundaryConstraint,\n",
    "        PointwiseInteriorConstraint,\n",
    ")\n",
    "from modulus.sym.domain.inferencer import PointwiseInferencer\n",
    "from modulus.sym.domain.validator import PointwiseValidator\n",
    "from modulus.sym.key import Key\n",
    "from modulus.sym.node import Node\n",
    "from projectile_eqn import ProjectileEquation\n",
    "from modulus.sym.utils.io import (\n",
    "    csv_to_dict,\n",
    "    ValidatorPlotter,\n",
    "    InferencerPlotter,\n",
    ")\n",
    "\n",
    "```"
   ]
  },
  {
   "cell_type": "markdown",
   "metadata": {},
   "source": [
    "From v22.03 modulus supports APIs for solving data-driven problems where the data is available on grid/mesh as well as the PINN problems where point clouds are used for problem formulation. In this section, since we will be solving the projectile problem using the PINN approach, we will use the functions and classes from the `modulus.solver` module. The `Solver` class trains and evaluates the Modulus' neural network solver. The `Domain` class is used to add constraints, monitors, validators, etc. to the problem.\n",
    "\n",
    "The `geometry` module contains predefined geometries respectively that one can use to define the problem. We will describe each of them in detail as we move forward in the code. For more detailed information on all the different modules, we recommend you to refer the [Modulus API Documentation](https://docs.nvidia.com/deeplearning/modulus/modulus-sym/api/api_index.html)."
   ]
  },
  {
   "cell_type": "markdown",
   "metadata": {},
   "source": [
    "### Step 1: Creating the geometry\n",
    "\n",
    "In this problem, we will create a 1-dimensional geometry using `Point1D` class from the geometry module. The module also contains several 2d and 3d shapes like rectangle, circle, triangle, cuboids, sphere, torus, cones, tetrahedrons, etc. We will define the one-dimensional (1D) Point mass object for our simulation."
   ]
  },
  {
   "cell_type": "markdown",
   "metadata": {},
   "source": [
    "```python\n",
    "# params for domain\n",
    "geo = Point1D(0)\n",
    "```"
   ]
  },
  {
   "cell_type": "markdown",
   "metadata": {},
   "source": [
    "### Step 2: Defining the differential equations for the problem and creating the nodes\n",
    "\n",
    "The `PDE` class allows us to write the equations symbolically in Sympy. This allows you to quickly write your equations in the most natural way possible. The Sympy equations are converted to PyTorch expressions in the back-end and can also be printed to ensure correct implementation.\n",
    "\n",
    "Modulus also comes with several common PDEs predefined for the user to choose from. Some of the PDEs that are already available in the PDEs module are: Navier Stokes, Linear Elasticity, Advection Diffusion, Wave Equations, etc.\n",
    "\n",
    "Let's create the PDE to define the equation.\n",
    "$$\n",
    "\\frac{\\mathrm{d}^2 S_x}{\\mathrm{d} t^2} = 0 \\\\\n",
    "\\frac{\\mathrm{d}^2 S_y}{\\mathrm{d} t^2} = g\n",
    "$$\n",
    "\n",
    "Let's start defining the equation by inhereting from the `PDE` class. We will create the initialization method for this class that defines the equation(s) of interest."
   ]
  },
  {
   "cell_type": "markdown",
   "metadata": {},
   "source": [
    "```python\n",
    "class ProjectileEquation(PDE):\n",
    "    name = \"ProjectileEquation\"\n",
    "\n",
    "    def __init__(self):\n",
    "\n",
    "        #time\n",
    "        t = Symbol(\"t\")\n",
    "\n",
    "        #make input variables\n",
    "        input_variables = {\"t\": t}\n",
    "\n",
    "        #make y function\n",
    "        x = Function(\"x\")(*input_variables)\n",
    "        y = Function(\"y\")(*input_variables)\n",
    "        \n",
    "\n",
    "        #set equation\n",
    "        self.equations = {}\n",
    "        self.equations[\"ode_x\"] = x.diff(t,2)\n",
    "        self.equations[\"ode_y\"] = y.diff(t,2)\n",
    "```"
   ]
  },
  {
   "cell_type": "markdown",
   "metadata": {},
   "source": [
    "First, we defined the input variable $t$ with Sympy symbols. Then we defined the functions for $x$, $y$ that are dependent on the input variable $t$. Using these, we can write out our equations. We store this equation in the class by adding it to the dictionary of `equations`.\n",
    "\n",
    "Note that we moved all the terms of the PDE either to LHS or RHS. This way, while using the equations in the constraints, we can assign a custom source function to the <code>’ode_y’</code> or <code>’ode_x’</code> key instead of 0 to add more source terms to our PDE.\n",
    "Great! We just wrote our own PDE in Modulus! Once you have understood the process to code a simple PDE, you can easily extend the procedure for different PDEs. You can also bundle multiple PDEs together in the same file by adding new keys to the equations dictionary. \n",
    "<em>(More examples of coding your own PDE can be found in the <a href=\"https://docs.nvidia.com/deeplearning/modulus/modulus-sym/user_guide/foundational/1d_wave_equation.html\" rel=\"nofollow\">Modulus User Documentation</a>)</em>. \n"
   ]
  },
  {
   "cell_type": "markdown",
   "metadata": {},
   "source": [
    "#### Creating the Neural Network nodes\n",
    "\n",
    "The default `FullyConnectedArch` (selected by setting `cfg.arch.fully_connected` in the `cfg` argument of the `instantiate_arch()` function) can be used to create the neural network for the problem. The default `FullyConnectedArch` represents a 6 layer MLP (multi-layer perceptron) architecture with each layer containing 512 nodes and uses swish as the activation function. All these parameters are user configurable, and can be configured using Hydra config files. Once all the PDEs and architectures are defined, we can create a list of nodes to pass to different constraints we want to satisfy for this problem (i.e. equations residuals, boundary conditions, etc.).\n",
    "\n",
    "We will define all the code for the problem in the `run` function as shown below. "
   ]
  },
  {
   "cell_type": "markdown",
   "metadata": {},
   "source": [
    "```python  \n",
    "@modulus.sym.main(config_path=\"conf\", config_name=\"config\")\n",
    "def run(cfg: ModulusConfig) -> None:\n",
    "    #Creating Nodes and Domain\n",
    "    pe = ProjectileEquation()\n",
    "    projectile_net = instantiate_arch(\n",
    "        input_keys=[Key(\"t\")],\n",
    "        output_keys=[Key(\"x\"),Key(\"y\")],\n",
    "        cfg=cfg.arch.fully_connected,\n",
    "    )\n",
    "\n",
    "    nodes = pe.make_nodes() + [projectile_net.make_node(name=\"projectile_network\")]\n",
    "```"
   ]
  },
  {
   "cell_type": "markdown",
   "metadata": {},
   "source": [
    "### Step 3: Setting up the Domain,a ssigning the boundary and PDE constraints\n",
    "\n",
    "As described earlier, we need to define a domain for training our neural network. The `Domain` and the configs are passed as inputs when using the `Solver` class. Apart from constraints, you can add various other utilities to the `Domain` such as monitors, validation data, points to do inference on, etc. "
   ]
  },
  {
   "cell_type": "markdown",
   "metadata": {},
   "source": [
    "```python\n",
    "    # make domain to add constraints to the solver\n",
    "    projectile_domain = Domain()\n",
    "```"
   ]
  },
  {
   "cell_type": "markdown",
   "metadata": {},
   "source": [
    "Now let’s look into adding constraints to this domain. This can be thought of as adding specific constraints to the neural network optimization. For this physics-driven problem, these constraints are the boundary conditions and equation residuals. The goal is to satisfy the boundary conditions exactly and ideally have the PDE residuals go to 0. These constraints can be specified within Modulus using classes like `PointwiseBoundaryConstrant` and `PointwiseInteriorConstraint`. An L2 loss (default and can be modified) is then constructed from these constraints, which is used by the optimizer to minimize on.\n",
    "\n",
    "$$L = L_{BC} + L_{Residual}$$\n",
    "<strong>Boundary constraints:</strong> For generating a boundary condition, we need to sample the points on the required boundary/surface of the geometry, specify the nodes we would like to unroll/evaluate on these points and then assign them the desired values. \n",
    "A boundary can be sampled using <code>PointwiseBoundaryConstraint</code> class. This will sample the entire boundary of the geometry we specify in the <code>geometry</code> argument. In this case, we defined the geometry as a 1d point mass.\n",
    "The desired values for the boundary condition are listed as a dictionary in <code>outvar</code> argument. \n",
    "For this problem,  we have set up two boundary conditions.\n",
    "<ul>\n",
    "<li>Initial condition ( $t=0$ ): We set the origin to be our starting point ( <code>'x': 0.0</code> ,<code>'y':0.0</code> ) and give it an initial velocity (<code>'x__t':v_o*cos(theta)</code>, <code>'y__t':v_o*sin(theta)</code> ). </li>\n",
    "<li>Rest of the time range ($t=(0,5) $): We will then set to solve the differential equations defined for the specific periods of time range ( <code>'ode_x':0.0</code> and <code>'ode_y':-9.81</code>) denoting that there is no acceleration other than gravitational acceleration. </li>\n",
    "</ul>\n",
    "These dictionaries are then used when unrolling the computational graph (specified using the <code>nodes</code> argument) for training.\n",
    "The number of points to sample on each boundary is specified using the <code>batch_size</code> parameter. \n"
   ]
  },
  {
   "cell_type": "markdown",
   "metadata": {},
   "source": [
    "```python\n",
    "    #Add Constraints to solver\n",
    "    v_o = 40.0                   # Initial velocity\n",
    "    theta = np.pi/3              # Initial anagle \n",
    "    time_range = {t :(0.0,5.0)}  # Time range to solve the PDE\n",
    "\n",
    "    # Initial condition\n",
    "    IC = PointwiseBoundaryConstraint(\n",
    "            nodes = nodes,\n",
    "            geometry = geo,\n",
    "            outvar = {\"x\": 0.0,\"y\":0.0, \"x__t\":v_o*cos(theta), \"y__t\":v_o*sin(theta)},\n",
    "            batch_size = cfg.batch_size.initial_x,\n",
    "            parameterization = {t:0.0}\n",
    "    )\n",
    "    projectile_domain.add_constraint(IC,\"IC\")\n",
    "\n",
    "    # Solving PDE for the time range. \n",
    "    interior = PointwiseBoundaryConstraint(\n",
    "            nodes = nodes,\n",
    "            geometry = geo,\n",
    "            outvar = {\"ode_x\":0.0,\"ode_y\":-9.81},\n",
    "            batch_size = cfg.batch_size.interior,\n",
    "            parameterization = time_range,\n",
    "    )   \n",
    "    projectile_domain.add_constraint(interior,\"interior\")\n",
    "```"
   ]
  },
  {
   "cell_type": "markdown",
   "metadata": {},
   "source": [
    "### Step 4: Adding Validation and Inferencers to the Domain  \n",
    "\n",
    "#### Adding Validator\n",
    "\n",
    "For this problem, since we are aware of the solution, The analytical solution can then be given as:\n",
    "\n",
    "$$\n",
    "S_x = V_{0x} t \\\\\n",
    "S_y = V_{0y} t + \\frac{1}{2} g t^2 \n",
    "$$\n",
    "\n",
    "\n",
    "Now, let's create the validators. The validation data is added to the domain using the `PointwiseValidator` class. We use numpy to solve for the `x` and `y` based on the analytical expressions above. The dictionary of generated numpy arrays (`invar_numpy` and `outvar_numpy`) for input and output variables and the appropriate nodes are used in the definition of the constructor. "
   ]
  },
  {
   "cell_type": "markdown",
   "metadata": {},
   "source": [
    "```python\n",
    "    # Setup validator\n",
    "    delta_T = 0.01\n",
    "    t_val = np.arange(0.,5.,delta_T)\n",
    "    T_val = np.expand_dims(t_val.flatten(), axis = -1)\n",
    "    X_val =  v_o*np.cos(theta)*T_val\n",
    "    Y_val =  v_o*np.sin(theta)*T_val - 0.5*9.81*(T_val**2)\n",
    "    \n",
    "    invar_numpy = {\"t\": T_val}\n",
    "    outvar_numpy = {\"x\":X_val, \"y\": Y_val}\n",
    "    \n",
    "    validator = PointwiseValidator(\n",
    "            nodes=nodes,\n",
    "            invar=invar_numpy,\n",
    "            true_outvar=outvar_numpy,\n",
    "            batch_size=128,\n",
    "            plotter = ValidatorPlotter(),\n",
    "    )\n",
    "    projectile_domain.add_validator(validator)\n",
    "```"
   ]
  },
  {
   "cell_type": "markdown",
   "metadata": {},
   "source": [
    "#### Adding Inferencer \n",
    "\n",
    "Modulus also allows you to plot the results on arbitrary domains. You can then monitor these domains in Tensorboard or with other visualization tools. More details on how to add Modulus information to Tensorboard can be found in TensorBoard in Modulus. The code below shows the use of PointwiseInferencer.\n",
    "\n",
    "In the code below, we create Inferencer for $x$ and $y$ for a period of 8 seconds of time.\n",
    "\n",
    "The points to sample can be selected in a similar way as we did for specifying the interior constraints."
   ]
  },
  {
   "cell_type": "markdown",
   "metadata": {},
   "source": [
    "```python\n",
    "    # Setup Inferencer\n",
    "    t_infe = np.arange(0,8,0.001)\n",
    "    T_infe = np.expand_dims(t_infe.flatten(), axis = -1)\n",
    "    invar_infe = {\"t\":T_infe}\n",
    "\n",
    "    grid_inference = PointwiseInferencer(\n",
    "        nodes=nodes,\n",
    "        invar=invar_infe,\n",
    "        output_names=[\"x\",\"y\"],\n",
    "        batch_size=128,\n",
    "        plotter=InferencerPlotter(),\n",
    "    )\n",
    "    projectile_domain.add_inferencer(grid_inference, \"inferencer_data\")\n",
    "```"
   ]
  },
  {
   "cell_type": "markdown",
   "metadata": {},
   "source": [
    "### Step 5: Using Hydra to configure Modulus\n",
    "\n",
    "At the heart of using Modulus are Hydra config files. The one for this example can be found in the code shown below. Using hydra allows a highly customizable but user-friendly method for configuring the majority of Modulus’ features. More information can be found in <a href=\"https://docs.nvidia.com/deeplearning/modulus/modulus-sym/user_guide/features/configuration.html\" rel=\"nofollow\">Modulus Configuration</a>.\n"
   ]
  },
  {
   "cell_type": "markdown",
   "metadata": {},
   "source": [
    "```yaml\n",
    "defaults :\n",
    "  - modulus_default\n",
    "  - arch:\n",
    "      - fully_connected\n",
    "  - scheduler: tf_exponential_lr\n",
    "  - optimizer: adam\n",
    "  - loss: sum\n",
    "  - _self_\n",
    "\n",
    "save_filetypes : \"vtk,npz\"\n",
    "\n",
    "scheduler:\n",
    "  decay_rate: 0.95\n",
    "  decay_steps: 100\n",
    "\n",
    "\n",
    "training:\n",
    "  rec_validation_freq: 1000\n",
    "  rec_inference_freq: 1000\n",
    "  rec_monitor_freq: 1000\n",
    "  rec_constraint_freq: 2000\n",
    "  max_steps : 5000\n",
    "\n",
    "batch_size:\n",
    "  initial_x: 100\n",
    "  interior: 1000\n",
    "  \n",
    "graph: \n",
    "  func_arch: true\n",
    "   \n",
    "cuda_graphs: True\n",
    "cuda_graph_warmup: 20\n",
    "```"
   ]
  },
  {
   "cell_type": "markdown",
   "metadata": {},
   "source": [
    "### Step 6: Putting everything together: Solver and training\n",
    "\n",
    "We can create a solver by using the domain we just created along with the other configurations that define the optimizer choices, and settings (i.e. conf) using Modulus’ `Solver` class. The solver can then be executed using the `solve` method. "
   ]
  },
  {
   "cell_type": "markdown",
   "metadata": {},
   "source": [
    "```python\n",
    "    # make solver\n",
    "    slv = Solver(cfg, projectile_domain)\n",
    "\n",
    "    # start solver\n",
    "    slv.solve()\n",
    "\n",
    "\n",
    "if __name__ == \"__main__\":\n",
    "    run()\n",
    "```"
   ]
  },
  {
   "cell_type": "markdown",
   "metadata": {},
   "source": [
    "So let's create that file and run it:"
   ]
  },
  {
   "cell_type": "code",
   "execution_count": null,
   "metadata": {},
   "outputs": [],
   "source": [
    "%writefile projectile.py\n",
    "import numpy as np\n",
    "from sympy import Symbol, sin, cos, pi,  Eq\n",
    "import torch\n",
    "import modulus\n",
    "from modulus.sym.hydra import instantiate_arch, ModulusConfig\n",
    "from modulus.sym.solver import Solver\n",
    "from modulus.sym.domain import Domain\n",
    "from modulus.sym.geometry.primitives_1d import Line1D,Point1D\n",
    "from modulus.sym.geometry.primitives_2d import Rectangle\n",
    "from modulus.sym.domain.constraint import (\n",
    "        PointwiseBoundaryConstraint,\n",
    "        PointwiseInteriorConstraint,\n",
    ")\n",
    "from modulus.sym.domain.inferencer import PointwiseInferencer\n",
    "from modulus.sym.domain.validator import PointwiseValidator\n",
    "from modulus.sym.key import Key\n",
    "from modulus.sym.node import Node\n",
    "from projectile_eqn import ProjectileEquation\n",
    "from modulus.sym.utils.io import (\n",
    "    csv_to_dict,\n",
    "    ValidatorPlotter,\n",
    "    InferencerPlotter,\n",
    ")\n",
    "\n",
    "\n",
    "@modulus.sym.main(config_path=\".\", config_name=\"config\")\n",
    "def run(cfg: ModulusConfig) -> None:\n",
    "    #Creating Nodes and Domain\n",
    "    pe = ProjectileEquation()\n",
    "    projectile_net = instantiate_arch(\n",
    "        input_keys=[Key(\"t\")],\n",
    "        output_keys=[Key(\"x\"),Key(\"y\")],\n",
    "        cfg=cfg.arch.fully_connected,\n",
    "    )\n",
    "\n",
    "    nodes = pe.make_nodes() + [projectile_net.make_node(name=\"projectile_network\")]\n",
    "\n",
    "    x, y, t = Symbol(\"x\"), Symbol(\"y\"), Symbol(\"t\")\n",
    "    #Creating Geometry and adding constraint\n",
    "    geo = Point1D(0)\n",
    "    \n",
    "    #make domain\n",
    "    projectile_domain = Domain()\n",
    "\n",
    "    #add constraint to solver\n",
    "    v_o = 40.0\n",
    "    theta = np.pi/3\n",
    "    time_range = {t :(0.0,5.0)}\n",
    "    \n",
    "\n",
    "    #initial condition\n",
    "    # Set boundary to be only left boundary\n",
    "    IC = PointwiseBoundaryConstraint(\n",
    "            nodes = nodes,\n",
    "            geometry = geo,\n",
    "            outvar = {\"x\": 0.0,\"y\":0.0, \"x__t\":v_o*cos(theta), \"y__t\":v_o*sin(theta)},\n",
    "            batch_size = cfg.batch_size.initial_x,\n",
    "            parameterization = {t:0.0}\n",
    "    )\n",
    "    projectile_domain.add_constraint(IC,\"IC\")\n",
    "\n",
    "    #interior\n",
    "    interior = PointwiseBoundaryConstraint(\n",
    "            nodes = nodes,\n",
    "            geometry = geo,\n",
    "            outvar = {\"ode_x\":0.0,\"ode_y\":-9.81},\n",
    "            batch_size = cfg.batch_size.interior,\n",
    "            parameterization = time_range,\n",
    "    )   \n",
    "    projectile_domain.add_constraint(interior,\"interior\")\n",
    "\n",
    "    \n",
    "    # Setup validator\n",
    "    delta_T = 0.01\n",
    "    t_val = np.arange(0.,5.,delta_T)\n",
    "    T_val = np.expand_dims(t_val.flatten(), axis = -1)\n",
    "    X_val =  v_o*np.cos(theta)*T_val\n",
    "    Y_val =  v_o*np.sin(theta)*T_val - 0.5*9.81*(T_val**2)\n",
    "    \n",
    "    invar_numpy = {\"t\": T_val}\n",
    "    outvar_numpy = {\"x\":X_val, \"y\": Y_val}\n",
    "    \n",
    "    validator = PointwiseValidator(\n",
    "            nodes=nodes,\n",
    "            invar=invar_numpy,\n",
    "            true_outvar=outvar_numpy,\n",
    "            batch_size=128,\n",
    "            plotter = ValidatorPlotter(),\n",
    "    )\n",
    "    projectile_domain.add_validator(validator)\n",
    "    \n",
    "    \n",
    "    # Setup Inferencer\n",
    "    t_infe = np.arange(0,8,0.001)\n",
    "    T_infe = np.expand_dims(t_infe.flatten(), axis = -1)\n",
    "    invar_infe = {\"t\":T_infe}\n",
    "\n",
    "    grid_inference = PointwiseInferencer(\n",
    "        nodes=nodes,\n",
    "        invar=invar_infe,\n",
    "        output_names=[\"x\",\"y\"],\n",
    "        batch_size=128,\n",
    "        plotter=InferencerPlotter(),\n",
    "    )\n",
    "    projectile_domain.add_inferencer(grid_inference, \"inferencer_data\")\n",
    "\n",
    "    #make solver\n",
    "    slv = Solver(cfg, projectile_domain)\n",
    "\n",
    "    #start solve\n",
    "    slv.solve()\n",
    "    \n",
    "if __name__ == \"__main__\":\n",
    "    run()"
   ]
  },
  {
   "cell_type": "code",
   "execution_count": null,
   "metadata": {},
   "outputs": [],
   "source": [
    "%writefile projectile_eqn.py\n",
    "rom sympy import Symbol, Function, Number, sin, pi, exp\n",
    "from modulus.sym.eq.pde import PDE\n",
    "\n",
    "\n",
    "class ProjectileEquation(PDE):\n",
    "    name = \"ProjectileEquation\"\n",
    "\n",
    "    def __init__(self):\n",
    "\n",
    "        #time\n",
    "        t = Symbol(\"t\")\n",
    "\n",
    "        #make input variables\n",
    "        input_variables = {\"t\": t}\n",
    "\n",
    "        #make y function\n",
    "        x = Function(\"x\")(*input_variables)\n",
    "        y = Function(\"y\")(*input_variables)\n",
    "        \n",
    "\n",
    "        #set equation\n",
    "        self.equations = {}\n",
    "        self.equations[\"ode_x\"] = x.diff(t,2)\n",
    "        self.equations[\"ode_y\"] = y.diff(t,2)"
   ]
  },
  {
   "cell_type": "code",
   "execution_count": null,
   "metadata": {},
   "outputs": [],
   "source": [
    "%writefile config.yaml\n",
    "defaults :\n",
    "  - modulus_default\n",
    "  - arch:\n",
    "      - fully_connected\n",
    "  - scheduler: tf_exponential_lr\n",
    "  - optimizer: adam\n",
    "  - loss: sum\n",
    "  - _self_\n",
    "\n",
    "save_filetypes : \"vtk,npz\"\n",
    "\n",
    "scheduler:\n",
    "  decay_rate: 0.95\n",
    "  decay_steps: 100\n",
    "\n",
    "\n",
    "training:\n",
    "  rec_validation_freq: 1000\n",
    "  rec_inference_freq: 2000\n",
    "  rec_monitor_freq: 1000\n",
    "  rec_constraint_freq: 2000\n",
    "  max_steps : 5000\n",
    "\n",
    "batch_size:\n",
    "  initial_x: 100\n",
    "  interior: 1000\n",
    "  \n",
    "graph: \n",
    "  func_arch: true\n",
    "   \n",
    "cuda_graphs: True\n",
    "cuda_graph_warmup: 20"
   ]
  },
  {
   "cell_type": "markdown",
   "metadata": {},
   "source": [
    "Awesome! We have just completed the file set-up for the problem using the Modulus library. We are now ready to solve the PDEs using Neural Networks!\n",
    "\n",
    "Before we can start training, we can make use of Tensorboard for visualizing the loss values and convergence of several other monitors we just created. This can be done inside the Jupyter framework by selecting the directory in which the checkpoint will be stored by clicking on the small checkbox next to it. \n",
    "\n",
    "1. The option to launch a Tensorboard then shows up in that directory.\n",
    "\n",
    "<center><img src=\"images/tensorboard.png\" alt=\"Drawing\" style=\"width:900px\" /></center>\n",
    "\n",
    "2. We can launch tensorboard using the a command link the following (but your your instructor will show you how to do this on the cluster): \n",
    "\n",
    "```\n",
    "tensorboard --logdir /workspace/python/jupyter_notebook/ --port 8899\n",
    "```\n",
    "\n",
    "3. Open a new tab in your browser and head to [http://127.0.0.1:8889](http://127.0.0.1:8899) . You should see a screen similar to the below one. \n",
    "\n",
    "<center><img src=\"images/tensorboard_browser.png\" alt=\"Drawing\" style=\"width:900px\" /></center>\n",
    "\n",
    "\n",
    "Also, as Modulus uses Hydra for config management, this causes issues when the code is directly executed through the jupyter notebook. Hence, we will save the code in form of a python script and run that script inside the jupyter cell. This example is already saved for you, and the code block below executes that script <a href=\"../../source_code/projectile/projectile.py\" rel=\"nofollow\"><code>projectile.py</code></a>. You are encouraged to open the script and review the code once before executing. Also, feel free to edit the parameters in the <a href=\"../../source_code/projectile/conf/config.yaml\" rel=\"nofollow\"><code>config.yaml</code></a> file of the model and see its effect on the results.\n"
   ]
  },
  {
   "cell_type": "code",
   "execution_count": null,
   "metadata": {},
   "outputs": [],
   "source": [
    "import os\n",
    "os.environ[\"RANK\"]=\"0\"\n",
    "os.environ[\"WORLD_SIZE\"]=\"1\"\n",
    "os.environ[\"MASTER_ADDR\"]=\"localhost\""
   ]
  },
  {
   "cell_type": "code",
   "execution_count": null,
   "metadata": {},
   "outputs": [],
   "source": [
    "!python3 projectile.py"
   ]
  },
  {
   "cell_type": "markdown",
   "metadata": {},
   "source": [
    "### Visualizing the solution\n",
    "\n",
    "Modulus saves the data in several formats (including .vtp, .vtk and .npz). The .npz arrays can be plotted to visualize the output of the simulation. The .npz files that are created are found in the `outputs/` directory. \n",
    "\n",
    "Now, let's plot the distance for the analytical and the neural network solution. A sample script to plot the results is shown below.\n",
    "\n",
    "<center><img src=\"images/prediction.png\" alt=\"Drawing\" style=\"center\"/></center>"
   ]
  },
  {
   "cell_type": "code",
   "execution_count": null,
   "metadata": {},
   "outputs": [],
   "source": [
    "import matplotlib.pyplot as plt\n",
    "import numpy as np\n",
    "\n",
    "plt.figure(figsize=(12, 4))\n",
    "\n",
    "network_dir = \"./outputs/projectile/validators/\"\n",
    "data_1 = np.load(network_dir + \"validator.npz\", allow_pickle=True)\n",
    "data_1 = np.atleast_1d(data_1.f.arr_0)[0]\n",
    "\n",
    "plt.subplot(1, 2, 1)\n",
    "plt.plot(data_1[\"t\"][:, 0], data_1[\"pred_x\"][:, 0], \"--\", label=\"x_pred\")\n",
    "plt.plot(data_1[\"t\"][:, 0], data_1[\"true_x\"][:, 0], label=\"x_true\")\n",
    "plt.legend()\n",
    "\n",
    "plt.subplot(1, 2, 2)\n",
    "plt.plot(data_1[\"t\"][:, 0], data_1[\"pred_y\"][:, 0], \"--\", label=\"y_pred\")\n",
    "plt.plot(data_1[\"t\"][:, 0], data_1[\"true_y\"][:, 0], label=\"y_true\")\n",
    "plt.legend()\n",
    "\n",
    "\n",
    "plt.savefig(\"prediction\")"
   ]
  },
  {
   "cell_type": "markdown",
   "metadata": {},
   "source": [
    "We have now trained and visualised our first partial differential equation using Modulus. Let us now move ahead to solving complex equations using Modulus."
   ]
  },
  {
   "cell_type": "markdown",
   "metadata": {},
   "source": [
    "--- \n",
    "\n",
    "Don't forget to check out additional [Open Hackathons Resources](https://www.openhackathons.org/s/technical-resources) and join our [OpenACC and Hackathons Slack Channel](https://www.openacc.org/community#slack) to share your experience and get more help from the community.\n",
    "\n",
    "---\n",
    "\n",
    "# Licensing\n",
    "\n",
    "Copyright © 2023 OpenACC-Standard.org.  This material is released by OpenACC-Standard.org, in collaboration with NVIDIA Corporation, under the Creative Commons Attribution 4.0 International (CC BY 4.0). These materials may include references to hardware and software developed by other entities; all applicable licensing and copyrights apply."
   ]
  }
 ],
 "metadata": {
  "kernelspec": {
   "display_name": "Python 3 (ipykernel)",
   "language": "python",
   "name": "python3"
  },
  "language_info": {
   "codemirror_mode": {
    "name": "ipython",
    "version": 3
   },
   "file_extension": ".py",
   "mimetype": "text/x-python",
   "name": "python",
   "nbconvert_exporter": "python",
   "pygments_lexer": "ipython3",
   "version": "3.10.12"
  },
  "vscode": {
   "interpreter": {
    "hash": "a711b04aa4c9aa07579ffc797b65c7dfc6f7ec2ead73841f0d3314704b4af09d"
   }
  }
 },
 "nbformat": 4,
 "nbformat_minor": 4
}
