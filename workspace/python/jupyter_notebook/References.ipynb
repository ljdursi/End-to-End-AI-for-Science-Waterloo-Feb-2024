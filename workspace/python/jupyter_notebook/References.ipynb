{
 "cells": [
  {
   "cell_type": "markdown",
   "id": "c226372e",
   "metadata": {},
   "source": [
    "# References\n",
    "\n",
    "1. [Scientific Machine Learning through Physics-Informed Neural Networks: Where we are and What’s next](https://arxiv.org/pdf/2201.05624.pdf)"
   ]
  },
  {
   "cell_type": "code",
   "execution_count": null,
   "id": "f3bd468f",
   "metadata": {},
   "outputs": [],
   "source": []
  }
 ],
 "metadata": {
  "kernelspec": {
   "display_name": "Python 3 (ipykernel)",
   "language": "python",
   "name": "python3"
  },
  "language_info": {
   "codemirror_mode": {
    "name": "ipython",
    "version": 3
   },
   "file_extension": ".py",
   "mimetype": "text/x-python",
   "name": "python",
   "nbconvert_exporter": "python",
   "pygments_lexer": "ipython3",
   "version": "3.10.2"
  }
 },
 "nbformat": 4,
 "nbformat_minor": 5
}
